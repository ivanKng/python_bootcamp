{
 "cells": [
  {
   "cell_type": "code",
   "execution_count": null,
   "id": "documentary-international",
   "metadata": {},
   "outputs": [],
   "source": [
    "from random import randint\n",
    "\n",
    "x = randint(0, 100)\n",
    "#print(x)\n",
    "\n",
    "while True:\n",
    "    guess = int(input())\n",
    "    if guess < x:\n",
    "        print(\"Guess Higher\")\n",
    "    elif guess > x:\n",
    "        print(\"Guess Lower\")\n",
    "    else:\n",
    "        print(\"Hey! You guessed it!\")\n",
    "        break"
   ]
  }
 ],
 "metadata": {
  "kernelspec": {
   "display_name": "Python 3",
   "language": "python",
   "name": "python3"
  },
  "language_info": {
   "codemirror_mode": {
    "name": "ipython",
    "version": 3
   },
   "file_extension": ".py",
   "mimetype": "text/x-python",
   "name": "python",
   "nbconvert_exporter": "python",
   "pygments_lexer": "ipython3",
   "version": "3.8.5"
  }
 },
 "nbformat": 4,
 "nbformat_minor": 5
}
